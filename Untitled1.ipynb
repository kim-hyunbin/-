{
  "nbformat": 4,
  "nbformat_minor": 0,
  "metadata": {
    "colab": {
      "name": "Untitled1.ipynb",
      "provenance": [],
      "authorship_tag": "ABX9TyPhPr9cwER9ErjKnFB9AMFE",
      "include_colab_link": true
    },
    "kernelspec": {
      "name": "python3",
      "display_name": "Python 3"
    }
  },
  "cells": [
    {
      "cell_type": "markdown",
      "metadata": {
        "id": "view-in-github",
        "colab_type": "text"
      },
      "source": [
        "<a href=\"https://colab.research.google.com/github/kim-hyunbin/-/blob/master/Untitled1.ipynb\" target=\"_parent\"><img src=\"https://colab.research.google.com/assets/colab-badge.svg\" alt=\"Open In Colab\"/></a>"
      ]
    },
    {
      "cell_type": "markdown",
      "metadata": {
        "id": "ESLiKhHX0WmW",
        "colab_type": "text"
      },
      "source": [
        "# 인공지능 사관학교 프리코스 과제 목차\n",
        "## 1주차 과제 (2020.06.08)\n",
        "* 언어 인공지능\n",
        " * 언어 인공지능을 이용한 제품으로는 구글의 무선 이어폰 '픽셀 버드'로 실시간 통역이 가능 하다.\n",
        "* 음성 인공지능\n",
        " * 음성 인공지능을 이용한 제품으로는 애플의 '시리' 삼성의 '빅스비'등이 있다.\n",
        "* 이미지 인공지능\n",
        " * 이미지 인공지능을 이용한 서비스로는 스마트폰 어플 중 'Vivino'라는 어플은 스마트폰으로 와인 라벨을 찍으면  가격, 평점 어울리는 안주까지 추천해 주는 어플이다.\n",
        "* 자율주행 인공지능\n",
        " * 자율주행 인공지능으로 대표적인게 자율주행 자동차라고 생각한다. 자율주행은 운전자 개입 없이 자동차가 스스로 도로 환경을 인식하고 조항, 변속 장치 등을 제어하여 목적지까지 주행할 수 있다."
      ]
    }
  ]
}